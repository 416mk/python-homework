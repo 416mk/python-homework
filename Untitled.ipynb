{
 "cells": [
  {
   "cell_type": "code",
   "execution_count": 8,
   "id": "e1b26950-6462-401d-a475-48d04e6d1d23",
   "metadata": {
    "tags": []
   },
   "outputs": [],
   "source": [
    "import pandas as pd\n",
    "import numpy as np\n",
    "import yfinance as yf"
   ]
  },
  {
   "cell_type": "code",
   "execution_count": 9,
   "id": "079fb802-ec56-471d-b8eb-752a2423dbd7",
   "metadata": {
    "tags": []
   },
   "outputs": [],
   "source": [
    "# Fetch data for Apple Inc. (AAPL)\n",
    "stock = yf.Ticker('AAPL')\n",
    "\n",
    "# Fetch historical data for a specific date range\n",
    "historical_data = stock.history(period=\"5d\")  # Replace with your desired date range\n"
   ]
  },
  {
   "cell_type": "code",
   "execution_count": 10,
   "id": "e8030950-768a-46d8-9720-ca27344174ef",
   "metadata": {
    "tags": []
   },
   "outputs": [
    {
     "name": "stdout",
     "output_type": "stream",
     "text": [
      "                                 Open        High         Low       Close  \\\n",
      "Date                                                                        \n",
      "2023-09-29 00:00:00-04:00  172.020004  173.070007  170.339996  171.210007   \n",
      "2023-10-02 00:00:00-04:00  171.220001  174.300003  170.929993  173.750000   \n",
      "2023-10-03 00:00:00-04:00  172.259995  173.630005  170.820007  172.399994   \n",
      "2023-10-04 00:00:00-04:00  171.089996  174.210007  170.970001  173.660004   \n",
      "2023-10-05 00:00:00-04:00  173.789993  175.441101  172.679993  174.910004   \n",
      "\n",
      "                             Volume  Dividends  Stock Splits  \n",
      "Date                                                          \n",
      "2023-09-29 00:00:00-04:00  51814200        0.0           0.0  \n",
      "2023-10-02 00:00:00-04:00  52164500        0.0           0.0  \n",
      "2023-10-03 00:00:00-04:00  49594600        0.0           0.0  \n",
      "2023-10-04 00:00:00-04:00  53020300        0.0           0.0  \n",
      "2023-10-05 00:00:00-04:00  48450371        0.0           0.0  \n"
     ]
    }
   ],
   "source": [
    "print(historical_data)\n",
    "\n"
   ]
  },
  {
   "cell_type": "code",
   "execution_count": 12,
   "id": "5ed0188e-b20c-4e9f-a561-68d95db082d6",
   "metadata": {
    "tags": []
   },
   "outputs": [
    {
     "name": "stdout",
     "output_type": "stream",
     "text": [
      "                           Date        Open        High         Low  \\\n",
      "0     2013-10-07 00:00:00-04:00   15.165920   15.355742   15.128204   \n",
      "1     2013-10-08 00:00:00-04:00   15.271275   15.293095   14.978281   \n",
      "2     2013-10-09 00:00:00-04:00   15.106072   15.204256   14.907833   \n",
      "3     2013-10-10 00:00:00-04:00   15.314287   15.347325   15.180880   \n",
      "4     2013-10-11 00:00:00-04:00   15.179320   15.392832   15.122279   \n",
      "...                         ...         ...         ...         ...   \n",
      "10063 2023-09-29 00:00:00-04:00  250.000000  254.770004  246.350006   \n",
      "10064 2023-10-02 00:00:00-04:00  244.809998  254.279999  242.619995   \n",
      "10065 2023-10-03 00:00:00-04:00  248.610001  250.020004  244.449997   \n",
      "10066 2023-10-04 00:00:00-04:00  248.139999  261.859985  247.600006   \n",
      "10067 2023-10-05 00:00:00-04:00  260.000000  263.600006  256.250000   \n",
      "\n",
      "            Close     Volume  Dividends  Stock Splits Symbol  \n",
      "0       15.203012  312292400        0.0           0.0   AAPL  \n",
      "1       14.990749  290917200        0.0           0.0   AAPL  \n",
      "2       15.166853  301725200        0.0           0.0   AAPL  \n",
      "3       15.261921  278602800        0.0           0.0   AAPL  \n",
      "4       15.360727  267738800        0.0           0.0   AAPL  \n",
      "...           ...        ...        ...           ...    ...  \n",
      "10063  250.220001  128346200        0.0           0.0   TSLA  \n",
      "10064  251.600006  123810400        0.0           0.0   TSLA  \n",
      "10065  246.529999  101985300        0.0           0.0   TSLA  \n",
      "10066  261.160004  129721600        0.0           0.0   TSLA  \n",
      "10067  260.049988  118134526        0.0           0.0   TSLA  \n",
      "\n",
      "[10068 rows x 9 columns]\n"
     ]
    }
   ],
   "source": [
    "import yfinance as yf\n",
    "import pandas as pd\n",
    "\n",
    "# Define a list of ticker symbols for the companies you want to fetch data for\n",
    "# You can add more ticker symbols to this list\n",
    "ticker_symbols = ['AAPL', 'MSFT', 'GOOGL','TSLA']\n",
    "\n",
    "# Create an empty DataFrame to store the combined data\n",
    "combined_data = pd.DataFrame()\n",
    "\n",
    "# Loop through each ticker symbol and fetch historical data\n",
    "for symbol in ticker_symbols:\n",
    "    company = yf.Ticker(symbol)\n",
    "    historical_data = company.history(period=\"10y\")  # Fetch data for the last 10 years\n",
    "    historical_data['Symbol'] = symbol  # Add a 'Symbol' column to identify the company\n",
    "    combined_data = pd.concat([combined_data, historical_data])\n",
    "\n",
    "# Reset the index of the combined data\n",
    "combined_data.reset_index(inplace=True)\n",
    "\n",
    "# Display the combined data\n",
    "print(combined_data)"
   ]
  },
  {
   "cell_type": "code",
   "execution_count": null,
   "id": "df73bef2-a8ce-4690-bd69-060f6c0f6085",
   "metadata": {},
   "outputs": [],
   "source": []
  },
  {
   "cell_type": "code",
   "execution_count": null,
   "id": "fae9d32d-2a31-453c-8eb9-2391ef50090a",
   "metadata": {},
   "outputs": [],
   "source": []
  }
 ],
 "metadata": {
  "kernelspec": {
   "display_name": "Python 3 (ipykernel)",
   "language": "python",
   "name": "python3"
  },
  "language_info": {
   "codemirror_mode": {
    "name": "ipython",
    "version": 3
   },
   "file_extension": ".py",
   "mimetype": "text/x-python",
   "name": "python",
   "nbconvert_exporter": "python",
   "pygments_lexer": "ipython3",
   "version": "3.10.12"
  }
 },
 "nbformat": 4,
 "nbformat_minor": 5
}
