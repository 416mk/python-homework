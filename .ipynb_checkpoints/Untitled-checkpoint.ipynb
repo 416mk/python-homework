{
 "cells": [
  {
   "cell_type": "code",
   "execution_count": 1,
   "id": "e1b26950-6462-401d-a475-48d04e6d1d23",
   "metadata": {
    "tags": []
   },
   "outputs": [],
   "source": [
    "import pandas as pd\n",
    "import numpy as np\n"
   ]
  },
  {
   "cell_type": "code",
   "execution_count": null,
   "id": "9ff6c308-5095-449e-b4a7-32a5b6447305",
   "metadata": {},
   "outputs": [],
   "source": [
    "# Load your stock market data into a pandas DataFrame\n",
    "df = pd.read_csv('C:\\Users\\MK\\Desktop\\World-')"
   ]
  }
 ],
 "metadata": {
  "kernelspec": {
   "display_name": "Python 3 (ipykernel)",
   "language": "python",
   "name": "python3"
  },
  "language_info": {
   "codemirror_mode": {
    "name": "ipython",
    "version": 3
   },
   "file_extension": ".py",
   "mimetype": "text/x-python",
   "name": "python",
   "nbconvert_exporter": "python",
   "pygments_lexer": "ipython3",
   "version": "3.10.12"
  }
 },
 "nbformat": 4,
 "nbformat_minor": 5
}
