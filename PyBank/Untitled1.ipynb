{
 "cells": [
  {
   "cell_type": "code",
   "execution_count": 1,
   "id": "25598a00-735d-4055-ac9b-f3154ea29bff",
   "metadata": {
    "tags": []
   },
   "outputs": [],
   "source": [
    "import requests"
   ]
  },
  {
   "cell_type": "code",
   "execution_count": 2,
   "id": "227e6c2a-3ef3-4c33-a3f2-ddb5777888f6",
   "metadata": {
    "tags": []
   },
   "outputs": [],
   "source": [
    "import pathlib, pandas"
   ]
  },
  {
   "cell_type": "code",
   "execution_count": 3,
   "id": "950f01c8-bfaa-4b71-9a35-fc6829fd87bb",
   "metadata": {
    "tags": []
   },
   "outputs": [],
   "source": [
    "from pathlib import Path\n"
   ]
  },
  {
   "cell_type": "code",
   "execution_count": null,
   "id": "77fc0f5b-2bc2-4e6f-8231-12179019f867",
   "metadata": {},
   "outputs": [],
   "source": [
    "Path1= (\"r"
   ]
  }
 ],
 "metadata": {
  "kernelspec": {
   "display_name": "Python 3 (ipykernel)",
   "language": "python",
   "name": "python3"
  },
  "language_info": {
   "codemirror_mode": {
    "name": "ipython",
    "version": 3
   },
   "file_extension": ".py",
   "mimetype": "text/x-python",
   "name": "python",
   "nbconvert_exporter": "python",
   "pygments_lexer": "ipython3",
   "version": "3.10.12"
  }
 },
 "nbformat": 4,
 "nbformat_minor": 5
}
