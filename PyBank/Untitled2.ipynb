{
 "cells": [
  {
   "cell_type": "code",
   "execution_count": 32,
   "id": "505434a4-609b-4151-9519-07046b431d9d",
   "metadata": {
    "tags": []
   },
   "outputs": [],
   "source": [
    "Key=\"zb7XG9ssrC5kRkqXx5GX\""
   ]
  },
  {
   "cell_type": "code",
   "execution_count": 66,
   "id": "80f40e67-3cf4-46af-b51d-4f53d8147691",
   "metadata": {
    "tags": []
   },
   "outputs": [],
   "source": [
    "from dotenv import load_dotenv"
   ]
  },
  {
   "cell_type": "code",
   "execution_count": 67,
   "id": "65d00e2a-7605-40f1-a2db-7942a1833edb",
   "metadata": {
    "tags": []
   },
   "outputs": [],
   "source": [
    "import os"
   ]
  },
  {
   "cell_type": "code",
   "execution_count": 68,
   "id": "bd403a13-67d0-42ef-aea0-4a4388c645bc",
   "metadata": {
    "tags": []
   },
   "outputs": [],
   "source": [
    "load_dotenv=(r\"C:\\Users\\MK\\Desktop\\python-homework\\PyBank\\example.env\")"
   ]
  },
  {
   "cell_type": "code",
   "execution_count": 69,
   "id": "5beaf33b-749f-4185-998b-fe1868c15067",
   "metadata": {
    "tags": []
   },
   "outputs": [],
   "source": [
    "api_key = os.getenv(\"NASDAQ_API_KEY\")\n"
   ]
  },
  {
   "cell_type": "code",
   "execution_count": 70,
   "id": "a2215a2d-56de-44a3-ae1f-3a513c999922",
   "metadata": {
    "tags": []
   },
   "outputs": [],
   "source": [
    "api_key"
   ]
  },
  {
   "cell_type": "code",
   "execution_count": null,
   "id": "36e734e2-79f2-437b-90f6-0415e4c80d65",
   "metadata": {
    "tags": []
   },
   "outputs": [],
   "source": []
  },
  {
   "cell_type": "code",
   "execution_count": 71,
   "id": "52b412b4-39a5-4d90-a62e-7e9ddda6f667",
   "metadata": {
    "tags": []
   },
   "outputs": [],
   "source": [
    "import alpaca_trade_api as tradeapi"
   ]
  },
  {
   "cell_type": "code",
   "execution_count": null,
   "id": "eb3efd4c-08b3-4c10-8883-51d8d420603b",
   "metadata": {},
   "outputs": [],
   "source": []
  },
  {
   "cell_type": "code",
   "execution_count": null,
   "id": "8ebe2294-6b49-48d7-a7af-b6f23fd626b5",
   "metadata": {},
   "outputs": [],
   "source": []
  }
 ],
 "metadata": {
  "kernelspec": {
   "display_name": "Python 3 (ipykernel)",
   "language": "python",
   "name": "python3"
  },
  "language_info": {
   "codemirror_mode": {
    "name": "ipython",
    "version": 3
   },
   "file_extension": ".py",
   "mimetype": "text/x-python",
   "name": "python",
   "nbconvert_exporter": "python",
   "pygments_lexer": "ipython3",
   "version": "3.10.12"
  }
 },
 "nbformat": 4,
 "nbformat_minor": 5
}
