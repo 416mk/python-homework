{
 "cells": [
  {
   "cell_type": "code",
   "execution_count": 1,
   "id": "08412a75-461b-4949-8b3c-87c166cdcfea",
   "metadata": {
    "tags": []
   },
   "outputs": [],
   "source": [
    "from pathlib import Path\n",
    "import pandas as pd"
   ]
  },
  {
   "cell_type": "code",
   "execution_count": 2,
   "id": "4ca11a06-326e-42c1-ab60-3705f9841e66",
   "metadata": {
    "tags": []
   },
   "outputs": [],
   "source": [
    "filepath = Path(r\"C:\\Users\\MK\\Desktop\\PyBank\\Resources\\budget_data.csv\")"
   ]
  },
  {
   "cell_type": "code",
   "execution_count": 21,
   "id": "b0f9005c-d5d3-4b34-b590-393e59f97110",
   "metadata": {
    "tags": []
   },
   "outputs": [
    {
     "name": "stdout",
     "output_type": "stream",
     "text": [
      "Date,Profit/Losses\n",
      "Jan-2010,867884\n",
      "Feb-2010,984655\n",
      "Mar-2010,322013\n",
      "Apr-2010,-69417\n",
      "May-2010,310503\n",
      "Jun-2010,522857\n",
      "Jul-2010,1033096\n",
      "Aug-2010,604885\n",
      "Sep-2010,-216386\n",
      "Oct-2010,477532\n",
      "Nov-2010,893810\n",
      "Dec-2010,-80353\n",
      "Jan-2011,779806\n",
      "Feb-2011,-335203\n",
      "Mar-2011,697845\n",
      "Apr-2011,793163\n",
      "May-2011,485070\n",
      "Jun-2011,584122\n",
      "Jul-2011,62729\n",
      "Aug-2011,668179\n",
      "Sep-2011,899906\n",
      "Oct-2011,834719\n",
      "Nov-2011,132003\n",
      "Dec-2011,309978\n",
      "Jan-2012,-755566\n",
      "Feb-2012,1170593\n",
      "Mar-2012,252788\n",
      "Apr-2012,1151518\n",
      "May-2012,817256\n",
      "Jun-2012,570757\n",
      "Jul-2012,506702\n",
      "Aug-2012,-1022534\n",
      "Sep-2012,475062\n",
      "Oct-2012,779976\n",
      "Nov-2012,144175\n",
      "Dec-2012,542494\n",
      "Jan-2013,359333\n",
      "Feb-2013,321469\n",
      "Mar-2013,67780\n",
      "Apr-2013,471435\n",
      "May-2013,565603\n",
      "Jun-2013,872480\n",
      "Jul-2013,789480\n",
      "Aug-2013,999942\n",
      "Sep-2013,-1196225\n",
      "Oct-2013,268997\n",
      "Nov-2013,-687986\n",
      "Dec-2013,1150461\n",
      "Jan-2014,682458\n",
      "Feb-2014,617856\n",
      "Mar-2014,824098\n",
      "Apr-2014,581943\n",
      "May-2014,132864\n",
      "Jun-2014,448062\n",
      "Jul-2014,689161\n",
      "Aug-2014,800701\n",
      "Sep-2014,1166643\n",
      "Oct-2014,947333\n",
      "Nov-2014,578668\n",
      "Dec-2014,988505\n",
      "Jan-2015,1139715\n",
      "Feb-2015,1029471\n",
      "Mar-2015,687533\n",
      "Apr-2015,-524626\n",
      "May-2015,158620\n",
      "Jun-2015,87795\n",
      "Jul-2015,423389\n",
      "Aug-2015,840723\n",
      "Sep-2015,568529\n",
      "Oct-2015,332067\n",
      "Nov-2015,989499\n",
      "Dec-2015,778237\n",
      "Jan-2016,650000\n",
      "Feb-2016,-1100387\n",
      "Mar-2016,-174946\n",
      "Apr-2016,757143\n",
      "May-2016,445709\n",
      "Jun-2016,712961\n",
      "Jul-2016,-1163797\n",
      "Aug-2016,569899\n",
      "Sep-2016,768450\n",
      "Oct-2016,102685\n",
      "Nov-2016,795914\n",
      "Dec-2016,60988\n",
      "Jan-2017,138230\n",
      "Feb-2017,671099\n",
      "\n"
     ]
    }
   ],
   "source": [
    "with open(filepath, 'r') as file:\n",
    "    text=file.read()\n",
    "    print(text)"
   ]
  },
  {
   "cell_type": "code",
   "execution_count": 15,
   "id": "b90a8e8f-f2f1-417e-bf68-23211d6ff892",
   "metadata": {
    "tags": []
   },
   "outputs": [
    {
     "name": "stdout",
     "output_type": "stream",
     "text": [
      "Total Months: 86\n"
     ]
    }
   ],
   "source": [
    "import csv\n",
    "\n",
    "row_count = 0\n",
    "\n",
    "\n",
    "with open(filepath, 'r') as csvfile:\n",
    "    csvreader = csv.reader(csvfile)\n",
    "    \n",
    "    next(csvreader)  # Skip header row\n",
    "    \n",
    "    for _ in csvreader:\n",
    "        row_count += 1\n",
    "total_months = (row_count)\n",
    "print(f\"Total Months: {row_count}\")"
   ]
  },
  {
   "cell_type": "code",
   "execution_count": 18,
   "id": "c41b5d52-34d1-4c9b-9755-55e7ab6f959d",
   "metadata": {
    "tags": []
   },
   "outputs": [
    {
     "name": "stdout",
     "output_type": "stream",
     "text": [
      "Total: 38382578\n"
     ]
    }
   ],
   "source": [
    "import csv\n",
    "\n",
    "total_units = 0\n",
    "\n",
    "\n",
    "with open(filepath, 'r') as csvfile:\n",
    "    csvreader = csv.reader(csvfile)\n",
    "    \n",
    "    next(csvreader)  # Skip header row\n",
    "    \n",
    "    for row in csvreader:\n",
    "        unit = int(row[1])  # Assuming units are in the second column\n",
    "        total_units += unit # the += makes it so that total_unit = to everything in unit added up\n",
    "        #unit = everything in row [1] meaning in the second row cuz it starts from 0, so unit is all the revenue values\n",
    "\n",
    "print(f\"Total: {total_units}\")"
   ]
  },
  {
   "cell_type": "code",
   "execution_count": 8,
   "id": "18a019eb-ab12-4c8c-8b7d-8a6d088f8295",
   "metadata": {
    "tags": []
   },
   "outputs": [
    {
     "name": "stdout",
     "output_type": "stream",
     "text": [
      "Average Change in Profit/Losses: $-2315.12\n"
     ]
    }
   ],
   "source": [
    "import csv\n",
    "\n",
    "\n",
    "\n",
    "# Read the CSV data\n",
    "with open(filepath, 'r') as csvfile:\n",
    "    csvreader = csv.reader(csvfile)\n",
    "    \n",
    "    next(csvreader)  # Skip header row\n",
    "\n",
    "    # Initialize variables\n",
    "    previous_profit_loss = None\n",
    "    total_changes = 0\n",
    "    change_count = 0\n",
    "    #helped from gpt\n",
    "    # Loop through rows and calculate changes\n",
    "    for row in csvreader:\n",
    "        profit_loss = int(row[1])\n",
    "        #gpt help and github refferences\n",
    "        if previous_profit_loss is not None:\n",
    "            change = profit_loss - previous_profit_loss\n",
    "            total_changes += change\n",
    "            change_count += 1\n",
    "        \n",
    "        previous_profit_loss = profit_loss\n",
    "    \n",
    "    # Calculate the average change\n",
    "    average_change = total_changes / change_count if change_count > 0 else 0\n",
    "    \n",
    "    # Print the average change\n",
    "    print(f\"Average Change in Profit/Losses: ${average_change:.2f}\")\n"
   ]
  },
  {
   "cell_type": "code",
   "execution_count": 29,
   "id": "e3fdebcb-8daf-4fde-ade4-06c25d42431b",
   "metadata": {
    "tags": []
   },
   "outputs": [
    {
     "name": "stdout",
     "output_type": "stream",
     "text": [
      "Greatest Increase in Profits: Feb-2012 ($1170593)\n"
     ]
    }
   ],
   "source": [
    "import csv\n",
    "\n",
    "\n",
    "# Replace 'your_file.csv' with the actual file name\n",
    "with open(filepath, 'r') as csvfile:\n",
    "    csvreader = csv.reader(csvfile)\n",
    "    \n",
    "    next(csvreader)  # Skip header row\n",
    "    \n",
    "    highest_increase = float('-inf')  # Initialize with negative infinity\n",
    "    highest_increase_date = None\n",
    "    \n",
    "    for row in csvreader:\n",
    "        date = row[0]  # Assuming dates are in the first column, this selects the row 0 as the variable where to get the date\n",
    "        profit_loss = int(row[1])  # Assuming profit/loss values are in the second column\n",
    "        #This was inspired by chat gpt\n",
    "        if profit_loss > highest_increase:\n",
    "            highest_increase = profit_loss\n",
    "            highest_increase_date = date # this takes the date on the same row and we deffined date\n",
    "\n",
    "print(f\"Greatest Increase in Profits: {highest_increase_date} (${highest_increase})\")\n",
    "increase_profit = (f\"Greatest Increase in Profits: {highest_increase_date} (${highest_increase})\")"
   ]
  },
  {
   "cell_type": "code",
   "execution_count": 33,
   "id": "1e98313e-eac7-4d9b-9b19-ab453d60553d",
   "metadata": {
    "tags": []
   },
   "outputs": [
    {
     "name": "stdout",
     "output_type": "stream",
     "text": [
      "Greatest Decrease in Profits: Sep-2013 ($-1196225)\n"
     ]
    }
   ],
   "source": [
    "import csv\n",
    "#chat gpt inspiration\n",
    "# Replace 'your_file.csv' with the actual file name\n",
    "with open(filepath, 'r') as csvfile:\n",
    "    csvreader = csv.reader(csvfile)\n",
    "    \n",
    "    next(csvreader)  # Skip header row\n",
    "    \n",
    "    lowest_decrease = float('inf')  # Initialize with positive infinity\n",
    "    lowest_decrease_date = None\n",
    "    \n",
    "    for row in csvreader:\n",
    "        date = row[0]  # Assuming dates are in the first column\n",
    "        profit_loss = int(row[1])  # Assuming profit/loss values are in the second column\n",
    "        \n",
    "        if profit_loss < lowest_decrease:\n",
    "            lowest_decrease = profit_loss\n",
    "            lowest_decrease_date = date\n",
    "decrease_profit =(f\"Greatest Decrease in Profits: {lowest_decrease_date} (${lowest_decrease})\")\n",
    "print(f\"Greatest Decrease in Profits: {lowest_decrease_date} (${lowest_decrease})\")\n"
   ]
  },
  {
   "cell_type": "code",
   "execution_count": 11,
   "id": "46798bfd-cb2e-48b9-9082-60858be1bcf5",
   "metadata": {
    "tags": []
   },
   "outputs": [
    {
     "name": "stdout",
     "output_type": "stream",
     "text": [
      "Total Months: 86\n"
     ]
    },
    {
     "ename": "NameError",
     "evalue": "name 'total_units' is not defined",
     "output_type": "error",
     "traceback": [
      "\u001b[1;31m---------------------------------------------------------------------------\u001b[0m",
      "\u001b[1;31mNameError\u001b[0m                                 Traceback (most recent call last)",
      "Cell \u001b[1;32mIn[11], line 2\u001b[0m\n\u001b[0;32m      1\u001b[0m \u001b[38;5;28mprint\u001b[39m(\u001b[38;5;124mf\u001b[39m\u001b[38;5;124m\"\u001b[39m\u001b[38;5;124mTotal Months: \u001b[39m\u001b[38;5;132;01m{\u001b[39;00mtotal_months\u001b[38;5;132;01m}\u001b[39;00m\u001b[38;5;124m\"\u001b[39m)\n\u001b[1;32m----> 2\u001b[0m \u001b[38;5;28mprint\u001b[39m(\u001b[38;5;124mf\u001b[39m\u001b[38;5;124m\"\u001b[39m\u001b[38;5;124mTotal: \u001b[39m\u001b[38;5;132;01m{\u001b[39;00mtotal_units\u001b[38;5;132;01m}\u001b[39;00m\u001b[38;5;124m ($\u001b[39m\u001b[38;5;132;01m{\u001b[39;00mtotal_units\u001b[38;5;132;01m}\u001b[39;00m\u001b[38;5;124m)\u001b[39m\u001b[38;5;124m\"\u001b[39m)\n\u001b[0;32m      3\u001b[0m \u001b[38;5;28mprint\u001b[39m(\u001b[38;5;124mf\u001b[39m\u001b[38;5;124m\"\u001b[39m\u001b[38;5;124mAverage Change: \u001b[39m\u001b[38;5;132;01m{\u001b[39;00maverage_change\u001b[38;5;132;01m}\u001b[39;00m\u001b[38;5;124m ($\u001b[39m\u001b[38;5;132;01m{\u001b[39;00maverage_change\u001b[38;5;132;01m}\u001b[39;00m\u001b[38;5;124m)\u001b[39m\u001b[38;5;124m\"\u001b[39m)\n\u001b[0;32m      4\u001b[0m \u001b[38;5;28mprint\u001b[39m(increase_profit)\n",
      "\u001b[1;31mNameError\u001b[0m: name 'total_units' is not defined"
     ]
    }
   ],
   "source": [
    "print(f\"Total Months: {total_months}\")\n",
    "print(f\"Total: {total_units} (${total_units})\")\n",
    "print(f\"Average Change: {average_change} (${average_change})\")\n",
    "print(increase_profit)\n",
    "print(decrease_profit)\n"
   ]
  },
  {
   "cell_type": "code",
   "execution_count": null,
   "id": "019dbf05-c1c1-4f5e-9421-f6ecc34bc413",
   "metadata": {},
   "outputs": [],
   "source": []
  },
  {
   "cell_type": "code",
   "execution_count": 13,
   "id": "d4a88189-2177-45c9-9803-252ee9d57f23",
   "metadata": {},
   "outputs": [
    {
     "ename": "NameError",
     "evalue": "name 'total_units' is not defined",
     "output_type": "error",
     "traceback": [
      "\u001b[1;31m---------------------------------------------------------------------------\u001b[0m",
      "\u001b[1;31mNameError\u001b[0m                                 Traceback (most recent call last)",
      "Cell \u001b[1;32mIn[13], line 5\u001b[0m\n\u001b[0;32m      3\u001b[0m \u001b[38;5;28;01mwith\u001b[39;00m \u001b[38;5;28mopen\u001b[39m(output_path, \u001b[38;5;124m\"\u001b[39m\u001b[38;5;124mw\u001b[39m\u001b[38;5;124m\"\u001b[39m) \u001b[38;5;28;01mas\u001b[39;00m f:\n\u001b[0;32m      4\u001b[0m     f\u001b[38;5;241m.\u001b[39mwrite(\u001b[38;5;124mf\u001b[39m\u001b[38;5;124m\"\u001b[39m\u001b[38;5;124mTotal Months: \u001b[39m\u001b[38;5;132;01m{\u001b[39;00mtotal_months\u001b[38;5;132;01m}\u001b[39;00m\u001b[38;5;130;01m\\n\u001b[39;00m\u001b[38;5;124m\"\u001b[39m)\n\u001b[1;32m----> 5\u001b[0m     f\u001b[38;5;241m.\u001b[39mwrite(\u001b[38;5;124mf\u001b[39m\u001b[38;5;124m\"\u001b[39m\u001b[38;5;124mTotal: \u001b[39m\u001b[38;5;132;01m{\u001b[39;00mtotal_units\u001b[38;5;132;01m}\u001b[39;00m\u001b[38;5;124m ($\u001b[39m\u001b[38;5;132;01m{\u001b[39;00mtotal_units\u001b[38;5;132;01m}\u001b[39;00m\u001b[38;5;124m)\u001b[39m\u001b[38;5;130;01m\\n\u001b[39;00m\u001b[38;5;124m\"\u001b[39m)\n\u001b[0;32m      6\u001b[0m     f\u001b[38;5;241m.\u001b[39mwrite(\u001b[38;5;124mf\u001b[39m\u001b[38;5;124m\"\u001b[39m\u001b[38;5;124mAverage Change: \u001b[39m\u001b[38;5;132;01m{\u001b[39;00maverage_change\u001b[38;5;132;01m}\u001b[39;00m\u001b[38;5;124m ($\u001b[39m\u001b[38;5;132;01m{\u001b[39;00maverage_change\u001b[38;5;132;01m}\u001b[39;00m\u001b[38;5;124m)\u001b[39m\u001b[38;5;130;01m\\n\u001b[39;00m\u001b[38;5;124m\"\u001b[39m)\n\u001b[0;32m      7\u001b[0m     f\u001b[38;5;241m.\u001b[39mwrite(\u001b[38;5;124mf\u001b[39m\u001b[38;5;124m\"\u001b[39m\u001b[38;5;124mIncrease in Profit: \u001b[39m\u001b[38;5;132;01m{\u001b[39;00mincrease_profit\u001b[38;5;132;01m}\u001b[39;00m\u001b[38;5;130;01m\\n\u001b[39;00m\u001b[38;5;124m\"\u001b[39m)\n",
      "\u001b[1;31mNameError\u001b[0m: name 'total_units' is not defined"
     ]
    }
   ],
   "source": [
    "\n",
    "output_path = r\"C:\\Users\\MK\\Desktop\\python-homework\\PyBank\\results.txt\"\n",
    "\n",
    "with open(output_path, \"w\") as f:\n",
    "    f.write(f\"Total Months: {total_months}\\n\")\n",
    "    f.write(f\"Total: {total_units} (${total_units})\\n\")\n",
    "    f.write(f\"Average Change: {average_change} (${average_change})\\n\")\n",
    "    f.write(f\"Increase in Profit: {increase_profit}\\n\")\n",
    "    f.write(f\"Decrease in Profit: {decrease_profit}\\n\")"
   ]
  },
  {
   "cell_type": "code",
   "execution_count": null,
   "id": "4a5fd723-cc04-43dd-adba-dfa429610ac9",
   "metadata": {},
   "outputs": [],
   "source": []
  },
  {
   "cell_type": "code",
   "execution_count": null,
   "id": "dac0903a-83ce-4bfb-9b9d-0267765a7566",
   "metadata": {},
   "outputs": [],
   "source": []
  },
  {
   "cell_type": "code",
   "execution_count": null,
   "id": "d07a24d6-9a88-40a3-96ab-515af1017d0a",
   "metadata": {},
   "outputs": [],
   "source": []
  }
 ],
 "metadata": {
  "kernelspec": {
   "display_name": "Python 3 (ipykernel)",
   "language": "python",
   "name": "python3"
  },
  "language_info": {
   "codemirror_mode": {
    "name": "ipython",
    "version": 3
   },
   "file_extension": ".py",
   "mimetype": "text/x-python",
   "name": "python",
   "nbconvert_exporter": "python",
   "pygments_lexer": "ipython3",
   "version": "3.10.12"
  }
 },
 "nbformat": 4,
 "nbformat_minor": 5
}
