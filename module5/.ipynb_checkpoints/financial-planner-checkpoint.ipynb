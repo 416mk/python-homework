{
 "cells": [
  {
   "cell_type": "markdown",
   "metadata": {},
   "source": [
    "# Unit 5 - Financial Planning"
   ]
  },
  {
   "cell_type": "code",
   "execution_count": 27,
   "metadata": {
    "tags": []
   },
   "outputs": [
    {
     "ename": "ModuleNotFoundError",
     "evalue": "No module named 'pyforcasttool'",
     "output_type": "error",
     "traceback": [
      "\u001b[1;31m---------------------------------------------------------------------------\u001b[0m",
      "\u001b[1;31mModuleNotFoundError\u001b[0m                       Traceback (most recent call last)",
      "Cell \u001b[1;32mIn[27], line 11\u001b[0m\n\u001b[0;32m      9\u001b[0m \u001b[38;5;28;01mimport\u001b[39;00m \u001b[38;5;21;01malpaca_trade_api\u001b[39;00m \u001b[38;5;28;01mas\u001b[39;00m \u001b[38;5;21;01mtradeapi\u001b[39;00m\n\u001b[0;32m     10\u001b[0m \u001b[38;5;28;01mimport\u001b[39;00m \u001b[38;5;21;01myfinance\u001b[39;00m \u001b[38;5;28;01mas\u001b[39;00m \u001b[38;5;21;01myf\u001b[39;00m\n\u001b[1;32m---> 11\u001b[0m \u001b[38;5;28;01mfrom\u001b[39;00m \u001b[38;5;21;01mpyforcasttool\u001b[39;00m \u001b[38;5;28;01mimport\u001b[39;00m MCSimulation\n\u001b[0;32m     12\u001b[0m \u001b[38;5;28;01mimport\u001b[39;00m \u001b[38;5;21;01mjson\u001b[39;00m\n\u001b[0;32m     13\u001b[0m get_ipython()\u001b[38;5;241m.\u001b[39mrun_line_magic(\u001b[38;5;124m'\u001b[39m\u001b[38;5;124mmatplotlib\u001b[39m\u001b[38;5;124m'\u001b[39m, \u001b[38;5;124m'\u001b[39m\u001b[38;5;124minline\u001b[39m\u001b[38;5;124m'\u001b[39m)\n",
      "\u001b[1;31mModuleNotFoundError\u001b[0m: No module named 'pyforcasttool'"
     ]
    }
   ],
   "source": [
    "#Mick Charbonneau\n",
    "#9/25/23\n",
    "#Inspiration from UTOR Bootcamp Ressources & Activity + ChatGPT\n",
    "# Initial imports\n",
    "import os\n",
    "import requests\n",
    "import pandas as pd\n",
    "from dotenv import load_dotenv\n",
    "import alpaca_trade_api as tradeapi\n",
    "import yfinance as yf\n",
    "from pyforcasttool import MCSimulation\n",
    "import json\n",
    "%matplotlib inline\n",
    "import warnings\n",
    "warnings.filterwarnings('ignore')"
   ]
  },
  {
   "cell_type": "code",
   "execution_count": 2,
   "metadata": {
    "tags": []
   },
   "outputs": [],
   "source": [
    "# Load .env enviroment variables\n",
    "from dotenv import load_dotenv,find_dotenv # a more acurate line of code to locate .env file\n",
    "load_dotenv(find_dotenv(r\"C:\\Users\\MK\\Desktop\\python-homework\\python notes\\example.env\")) #Location of my .env file\n",
    "\n",
    "# Set Alpaca API key and secret\n",
    "alpaca_api_key = os.getenv(\"ALPACA_API_KEY\")\n",
    "alpaca_secret_key = os.getenv(\"ALPACA_SECRET_KEY\")\n",
    "\n",
    "#Creating Alpaca API Object\n",
    "api = tradeapi.REST(\n",
    "    alpaca_api_key,\n",
    "    alpaca_secret_key,\n",
    "    api_version = \"v2\"\n",
    ")"
   ]
  },
  {
   "cell_type": "markdown",
   "metadata": {
    "tags": []
   },
   "source": [
    "## Part 1 - Personal Finance Planner"
   ]
  },
  {
   "cell_type": "markdown",
   "metadata": {
    "tags": []
   },
   "source": [
    "### Collect Crypto Prices Using the `requests` Library"
   ]
  },
  {
   "cell_type": "code",
   "execution_count": 3,
   "metadata": {
    "tags": []
   },
   "outputs": [],
   "source": [
    "# Set current amount of crypto assets\n",
    "btc_holding = 1.2  \n",
    "eth_holding = 5.3  "
   ]
  },
  {
   "cell_type": "code",
   "execution_count": 4,
   "metadata": {
    "tags": []
   },
   "outputs": [],
   "source": [
    "# Crypto API URLs\n",
    "btc_url = \"https://api.alternative.me/v2/ticker/Bitcoin/?convert=CAD\" # Link to BTC API\n",
    "btc_url= btc_url+\"?format=json\" # Format link to JSON format\n",
    "eth_url = \"https://api.alternative.me/v2/ticker/Ethereum/?convert=CAD\" # Link to ETH API\n",
    "eth_url= eth_url+\"?format=json\" # Format link to JSON format"
   ]
  },
  {
   "cell_type": "code",
   "execution_count": 5,
   "metadata": {
    "tags": []
   },
   "outputs": [
    {
     "name": "stdout",
     "output_type": "stream",
     "text": [
      "The current value of your 1.2 BTC is $62009.55\n",
      "The current value of your 5.3 ETH is $14687.38\n"
     ]
    }
   ],
   "source": [
    "# current BTC price\n",
    "btc_data=requests.get(\"https://api.alternative.me/v2/ticker/Bitcoin/?convert=CAD\") # New variable to contain BTC link and using the request command to retrive the link\n",
    "data1=btc_data.json() # Reads the data in a JSON format\n",
    "btc_price=data1[\"data\"][\"1\"][\"quotes\"][\"CAD\"][\"price\"] # Specifying where im grabbing BTC price\n",
    "\n",
    "#current ETH price\n",
    "eth_data=requests.get(\"https://api.alternative.me/v2/ticker/Ethereum/?convert=CAD\") # New variable to contain ETH link and using the request command to retrive the link\n",
    "data2=eth_data.json() # Reads the data in a JSON format\n",
    "eth_price=data2[\"data\"][\"1027\"][\"quotes\"][\"CAD\"][\"price\"] # Specifying where im grabbing ETH price\n",
    "\n",
    "\n",
    "# current value of my crpto\n",
    "total_btc_price= btc_holding*btc_price # Current Price of BTC * Number of BTC Shares\n",
    "total_eth_price=eth_holding*eth_price # Current Price of ETH * Number of ETH Shares\n",
    "\n",
    "# Print current crypto wallet balance\n",
    "print(f\"The current value of your {btc_holding} BTC is ${total_btc_price:0.2f}\") # Display Current Value of BTC Balance\n",
    "print(f\"The current value of your {eth_holding} ETH is ${total_eth_price:0.2f}\") # Display Curren"
   ]
  },
  {
   "cell_type": "markdown",
   "metadata": {
    "tags": []
   },
   "source": [
    "### Collect Investments Data Using Alpaca: `SPY` (stocks) and `AGG` (bonds)"
   ]
  },
  {
   "cell_type": "code",
   "execution_count": 6,
   "metadata": {
    "tags": []
   },
   "outputs": [],
   "source": [
    "# Set current amount of shares\n",
    "my_agg = 200\n",
    "my_spy = 50"
   ]
  },
  {
   "cell_type": "code",
   "execution_count": 7,
   "metadata": {
    "tags": []
   },
   "outputs": [
    {
     "data": {
      "text/html": [
       "<div>\n",
       "<style scoped>\n",
       "    .dataframe tbody tr th:only-of-type {\n",
       "        vertical-align: middle;\n",
       "    }\n",
       "\n",
       "    .dataframe tbody tr th {\n",
       "        vertical-align: top;\n",
       "    }\n",
       "\n",
       "    .dataframe thead tr th {\n",
       "        text-align: left;\n",
       "    }\n",
       "\n",
       "    .dataframe thead tr:last-of-type th {\n",
       "        text-align: right;\n",
       "    }\n",
       "</style>\n",
       "<table border=\"1\" class=\"dataframe\">\n",
       "  <thead>\n",
       "    <tr>\n",
       "      <th></th>\n",
       "      <th colspan=\"7\" halign=\"left\">SPY</th>\n",
       "      <th colspan=\"7\" halign=\"left\">AGG</th>\n",
       "    </tr>\n",
       "    <tr>\n",
       "      <th></th>\n",
       "      <th>close</th>\n",
       "      <th>high</th>\n",
       "      <th>low</th>\n",
       "      <th>trade_count</th>\n",
       "      <th>open</th>\n",
       "      <th>volume</th>\n",
       "      <th>vwap</th>\n",
       "      <th>close</th>\n",
       "      <th>high</th>\n",
       "      <th>low</th>\n",
       "      <th>trade_count</th>\n",
       "      <th>open</th>\n",
       "      <th>volume</th>\n",
       "      <th>vwap</th>\n",
       "    </tr>\n",
       "    <tr>\n",
       "      <th>timestamp</th>\n",
       "      <th></th>\n",
       "      <th></th>\n",
       "      <th></th>\n",
       "      <th></th>\n",
       "      <th></th>\n",
       "      <th></th>\n",
       "      <th></th>\n",
       "      <th></th>\n",
       "      <th></th>\n",
       "      <th></th>\n",
       "      <th></th>\n",
       "      <th></th>\n",
       "      <th></th>\n",
       "      <th></th>\n",
       "    </tr>\n",
       "  </thead>\n",
       "  <tbody>\n",
       "    <tr>\n",
       "      <th>2023-09-25 04:00:00+00:00</th>\n",
       "      <td>432.23</td>\n",
       "      <td>432.27</td>\n",
       "      <td>428.72</td>\n",
       "      <td>488035</td>\n",
       "      <td>429.17</td>\n",
       "      <td>70874824</td>\n",
       "      <td>430.900652</td>\n",
       "      <td>94.3</td>\n",
       "      <td>94.6175</td>\n",
       "      <td>94.285</td>\n",
       "      <td>25129</td>\n",
       "      <td>94.49</td>\n",
       "      <td>7485203</td>\n",
       "      <td>94.415122</td>\n",
       "    </tr>\n",
       "  </tbody>\n",
       "</table>\n",
       "</div>"
      ],
      "text/plain": [
       "                              SPY                                      \\\n",
       "                            close    high     low trade_count    open   \n",
       "timestamp                                                               \n",
       "2023-09-25 04:00:00+00:00  432.23  432.27  428.72      488035  429.17   \n",
       "\n",
       "                                                  AGG                   \\\n",
       "                             volume        vwap close     high     low   \n",
       "timestamp                                                                \n",
       "2023-09-25 04:00:00+00:00  70874824  430.900652  94.3  94.6175  94.285   \n",
       "\n",
       "                                                                  \n",
       "                          trade_count   open   volume       vwap  \n",
       "timestamp                                                         \n",
       "2023-09-25 04:00:00+00:00       25129  94.49  7485203  94.415122  "
      ]
     },
     "execution_count": 7,
     "metadata": {},
     "output_type": "execute_result"
    }
   ],
   "source": [
    "# Format current date as ISO format\n",
    "today = pd.Timestamp(\"2023-09-25\", tz=\"America/New_York\").isoformat()\n",
    "\n",
    "# Set the tickers\n",
    "tickers = [\"AGG\", \"SPY\"]\n",
    "\n",
    "# Set timeframe to \"1Day\" for Alpaca API\n",
    "timeframe = \"1Day\"\n",
    "\n",
    "# Get current closing prices for SPY and AGG\n",
    "stock_portfolio = api.get_bars(\n",
    "    tickers,\n",
    "    timeframe,\n",
    "    start = today,\n",
    "    end = today\n",
    ").df\n",
    "\n",
    "# Reorganize the DataFrame\n",
    "# Separate ticker data\n",
    "SPY = stock_portfolio[stock_portfolio['symbol']=='SPY'].drop('symbol', axis=1) # Seperating SPY Ticker\n",
    "AGG = stock_portfolio[stock_portfolio['symbol']=='AGG'].drop('symbol', axis=1) # Seperating AGG Ticker\n",
    "\n",
    "# Concatenate the ticker DataFrames\n",
    "stock_portfolio = pd.concat([SPY, AGG],axis=1, keys=['SPY','AGG']) \n",
    "\n",
    "# Preview DataFrame\n",
    "stock_portfolio"
   ]
  },
  {
   "cell_type": "code",
   "execution_count": 8,
   "metadata": {
    "tags": []
   },
   "outputs": [
    {
     "name": "stdout",
     "output_type": "stream",
     "text": [
      "Current AGG closing price: $94.3\n",
      "Current SPY closing price: $432.23\n"
     ]
    }
   ],
   "source": [
    "# Pick AGG and SPY close prices\n",
    "spy_price_close = float(stock_portfolio[\"SPY\"][\"close\"]) # Display SPY Closing Price\n",
    "agg_price_close = float(stock_portfolio[\"AGG\"][\"close\"]) # Display AGG Closing Price\n",
    "\n",
    "# Print AGG and SPY close prices\n",
    "print(f\"Current AGG closing price: ${agg_price_close}\")  # Print SPY close prices\n",
    "print(f\"Current SPY closing price: ${spy_price_close}\") # Print AGG  close prices"
   ]
  },
  {
   "cell_type": "code",
   "execution_count": 9,
   "metadata": {
    "tags": []
   },
   "outputs": [
    {
     "name": "stdout",
     "output_type": "stream",
     "text": [
      "The current value of your 50 SPY shares is $21611.50\n",
      "The current value of your 200 AGG shares is $18860.00\n"
     ]
    }
   ],
   "source": [
    "# Compute the current value of shares\n",
    "spy_value = spy_price_close * my_spy # Closing Price of SPY * Shares of SPY\n",
    "agg_value = agg_price_close * my_agg # Closing Price of AGG * Shares of AGG    \n",
    "\n",
    "# Print current value of shares\n",
    "print(f\"The current value of your {my_spy} SPY shares is ${spy_value:0.2f}\") # Print Current Value of close prices\n",
    "print(f\"The current value of your {my_agg} AGG shares is ${agg_value:0.2f}\") # Print SPY close "
   ]
  },
  {
   "cell_type": "code",
   "execution_count": 10,
   "metadata": {
    "tags": []
   },
   "outputs": [
    {
     "data": {
      "text/html": [
       "<div>\n",
       "<style scoped>\n",
       "    .dataframe tbody tr th:only-of-type {\n",
       "        vertical-align: middle;\n",
       "    }\n",
       "\n",
       "    .dataframe tbody tr th {\n",
       "        vertical-align: top;\n",
       "    }\n",
       "\n",
       "    .dataframe thead th {\n",
       "        text-align: right;\n",
       "    }\n",
       "</style>\n",
       "<table border=\"1\" class=\"dataframe\">\n",
       "  <thead>\n",
       "    <tr style=\"text-align: right;\">\n",
       "      <th></th>\n",
       "      <th>Amount</th>\n",
       "    </tr>\n",
       "  </thead>\n",
       "  <tbody>\n",
       "    <tr>\n",
       "      <th>Crypto</th>\n",
       "      <td>76696.929595</td>\n",
       "    </tr>\n",
       "    <tr>\n",
       "      <th>Shares</th>\n",
       "      <td>40471.500000</td>\n",
       "    </tr>\n",
       "  </tbody>\n",
       "</table>\n",
       "</div>"
      ],
      "text/plain": [
       "              Amount\n",
       "Crypto  76696.929595\n",
       "Shares  40471.500000"
      ]
     },
     "execution_count": 10,
     "metadata": {},
     "output_type": "execute_result"
    }
   ],
   "source": [
    "# Set monthly household income\n",
    "monthly_income=12000\n",
    "\n",
    "# Consolidate financial assets data\n",
    "total_crypto= total_btc_price + total_eth_price  # Total price of BTC + Total price of ETH \n",
    "total_shares= spy_value + agg_value  # Total Shares of SPY + Total Shares of AGG\n",
    "\n",
    "\n",
    "# Create savings DataFrame\n",
    "savings_data = {\n",
    "    \"Amount\": [total_crypto, total_shares] # Name of Columns\n",
    "}\n",
    "\n",
    "tickers = [\"Crypto\", \"Shares\"] # Name of Tickers\n",
    "\n",
    "total_savings_data = pd.DataFrame(savings_data, index=tickers) # Dataframe Creation\n",
    "\n",
    "# Display savings DataFrame\n",
    "total_savings_data"
   ]
  },
  {
   "cell_type": "code",
   "execution_count": 11,
   "metadata": {
    "tags": []
   },
   "outputs": [
    {
     "data": {
      "image/png": "[encoded data removed]",
      "text/plain": [
       "<Figure size 640x480 with 1 Axes>"
      ]
     },
     "metadata": {},
     "output_type": "display_data"
    }
   ],
   "source": [
    "# Plot savings pie chart\n",
    "total_savings_data.plot.pie(y=\"Amount\", title=\" Savings Portfolio Composition\");"
   ]
  },
  {
   "cell_type": "code",
   "execution_count": 13,
   "metadata": {
    "tags": []
   },
   "outputs": [
    {
     "name": "stdout",
     "output_type": "stream",
     "text": [
      "Emergency Fund: 36000\n",
      "Total Amount Saving: 117168.429595\n",
      "Congratulations! You have more savings than your emergency fund!\n"
     ]
    }
   ],
   "source": [
    "# Set ideal emergency fund\n",
    "emergency_fund = monthly_income * 3\n",
    "\n",
    "# Calculate total amount of savings\n",
    "total_amount_saving = total_shares + total_crypto # New variable to add total shares of Crypto and Stocks\n",
    "print(\"Emergency Fund:\", emergency_fund) # Prints Emergency Fund\n",
    "print(\"Total Amount Saving:\", total_amount_saving) # Prints Total Amount Saving\n",
    "\n",
    "# Validate saving health with a If Loop\n",
    "if emergency_fund < total_amount_saving: # Bigger than emergency fund\n",
    "    print(\"Congratulations! You have more savings than your emergency fund!\") # Print Statement\n",
    "\n",
    "if emergency_fund == total_amount_saving: # Equal to emergency fund\n",
    "    print(\"Congratulations! You have reached your goal of the emergency fund.\") # Print Statement\n",
    "\n",
    "if emergency_fund > total_amount_saving: # Less than emergency fund\n",
    "    shortfall = emergency_fund - total_amount_saving #Determine the amount needed to reach goal\n",
    "    print(f\"You are below the emergency fund amount. You need to save an additional ${shortfall:.2f} to reach your goal.\") # Print "
   ]
  },
  {
   "cell_type": "code",
   "execution_count": 15,
   "metadata": {
    "tags": []
   },
   "outputs": [],
   "source": [
    "#Part 2 - Retirement Planning\n",
    "#Monte Carlo Simulation\n",
    "# Set start and end dates of five years back from today.\n",
    "start_date = pd.Timestamp('2016-05-01', tz='America/New_York').isoformat()\n",
    "end_date = pd.Timestamp('2021-05-01', tz='America/New_York').isoformat()"
   ]
  },
  {
   "cell_type": "code",
   "execution_count": 16,
   "metadata": {
    "tags": []
   },
   "outputs": [
    {
     "data": {
      "text/html": [
       "<div>\n",
       "<style scoped>\n",
       "    .dataframe tbody tr th:only-of-type {\n",
       "        vertical-align: middle;\n",
       "    }\n",
       "\n",
       "    .dataframe tbody tr th {\n",
       "        vertical-align: top;\n",
       "    }\n",
       "\n",
       "    .dataframe thead tr th {\n",
       "        text-align: left;\n",
       "    }\n",
       "\n",
       "    .dataframe thead tr:last-of-type th {\n",
       "        text-align: right;\n",
       "    }\n",
       "</style>\n",
       "<table border=\"1\" class=\"dataframe\">\n",
       "  <thead>\n",
       "    <tr>\n",
       "      <th></th>\n",
       "      <th colspan=\"7\" halign=\"left\">SPY</th>\n",
       "      <th colspan=\"7\" halign=\"left\">AGG</th>\n",
       "    </tr>\n",
       "    <tr>\n",
       "      <th></th>\n",
       "      <th>close</th>\n",
       "      <th>high</th>\n",
       "      <th>low</th>\n",
       "      <th>trade_count</th>\n",
       "      <th>open</th>\n",
       "      <th>volume</th>\n",
       "      <th>vwap</th>\n",
       "      <th>close</th>\n",
       "      <th>high</th>\n",
       "      <th>low</th>\n",
       "      <th>trade_count</th>\n",
       "      <th>open</th>\n",
       "      <th>volume</th>\n",
       "      <th>vwap</th>\n",
       "    </tr>\n",
       "    <tr>\n",
       "      <th>timestamp</th>\n",
       "      <th></th>\n",
       "      <th></th>\n",
       "      <th></th>\n",
       "      <th></th>\n",
       "      <th></th>\n",
       "      <th></th>\n",
       "      <th></th>\n",
       "      <th></th>\n",
       "      <th></th>\n",
       "      <th></th>\n",
       "      <th></th>\n",
       "      <th></th>\n",
       "      <th></th>\n",
       "      <th></th>\n",
       "    </tr>\n",
       "  </thead>\n",
       "  <tbody>\n",
       "    <tr>\n",
       "      <th>2016-05-02 04:00:00+00:00</th>\n",
       "      <td>207.9700</td>\n",
       "      <td>208.1800</td>\n",
       "      <td>206.41</td>\n",
       "      <td>263586</td>\n",
       "      <td>206.92</td>\n",
       "      <td>64747229</td>\n",
       "      <td>207.305695</td>\n",
       "      <td>110.605</td>\n",
       "      <td>110.7400</td>\n",
       "      <td>110.5200</td>\n",
       "      <td>15122</td>\n",
       "      <td>110.74</td>\n",
       "      <td>3608552</td>\n",
       "      <td>110.626939</td>\n",
       "    </tr>\n",
       "    <tr>\n",
       "      <th>2016-05-03 04:00:00+00:00</th>\n",
       "      <td>206.1592</td>\n",
       "      <td>206.8000</td>\n",
       "      <td>205.28</td>\n",
       "      <td>377523</td>\n",
       "      <td>206.52</td>\n",
       "      <td>108050343</td>\n",
       "      <td>206.309997</td>\n",
       "      <td>110.810</td>\n",
       "      <td>110.9450</td>\n",
       "      <td>110.7500</td>\n",
       "      <td>15663</td>\n",
       "      <td>110.89</td>\n",
       "      <td>3128774</td>\n",
       "      <td>110.864495</td>\n",
       "    </tr>\n",
       "    <tr>\n",
       "      <th>2016-05-04 04:00:00+00:00</th>\n",
       "      <td>205.0100</td>\n",
       "      <td>205.8500</td>\n",
       "      <td>204.42</td>\n",
       "      <td>345266</td>\n",
       "      <td>204.99</td>\n",
       "      <td>94995641</td>\n",
       "      <td>205.086315</td>\n",
       "      <td>110.860</td>\n",
       "      <td>110.9315</td>\n",
       "      <td>110.7595</td>\n",
       "      <td>13984</td>\n",
       "      <td>110.91</td>\n",
       "      <td>3096337</td>\n",
       "      <td>110.877983</td>\n",
       "    </tr>\n",
       "    <tr>\n",
       "      <th>2016-05-05 04:00:00+00:00</th>\n",
       "      <td>204.9700</td>\n",
       "      <td>205.9800</td>\n",
       "      <td>204.47</td>\n",
       "      <td>280626</td>\n",
       "      <td>205.56</td>\n",
       "      <td>68425268</td>\n",
       "      <td>205.140615</td>\n",
       "      <td>111.140</td>\n",
       "      <td>111.1600</td>\n",
       "      <td>110.8010</td>\n",
       "      <td>15708</td>\n",
       "      <td>110.92</td>\n",
       "      <td>3052967</td>\n",
       "      <td>111.030002</td>\n",
       "    </tr>\n",
       "    <tr>\n",
       "      <th>2016-05-06 04:00:00+00:00</th>\n",
       "      <td>205.7200</td>\n",
       "      <td>205.7700</td>\n",
       "      <td>203.88</td>\n",
       "      <td>340162</td>\n",
       "      <td>204.06</td>\n",
       "      <td>90999800</td>\n",
       "      <td>204.943796</td>\n",
       "      <td>110.970</td>\n",
       "      <td>111.1200</td>\n",
       "      <td>110.9700</td>\n",
       "      <td>12697</td>\n",
       "      <td>111.12</td>\n",
       "      <td>2922700</td>\n",
       "      <td>111.027631</td>\n",
       "    </tr>\n",
       "    <tr>\n",
       "      <th>...</th>\n",
       "      <td>...</td>\n",
       "      <td>...</td>\n",
       "      <td>...</td>\n",
       "      <td>...</td>\n",
       "      <td>...</td>\n",
       "      <td>...</td>\n",
       "      <td>...</td>\n",
       "      <td>...</td>\n",
       "      <td>...</td>\n",
       "      <td>...</td>\n",
       "      <td>...</td>\n",
       "      <td>...</td>\n",
       "      <td>...</td>\n",
       "      <td>...</td>\n",
       "    </tr>\n",
       "    <tr>\n",
       "      <th>2020-04-15 04:00:00+00:00</th>\n",
       "      <td>277.7500</td>\n",
       "      <td>283.9407</td>\n",
       "      <td>275.46</td>\n",
       "      <td>711142</td>\n",
       "      <td>277.57</td>\n",
       "      <td>122479542</td>\n",
       "      <td>277.825663</td>\n",
       "      <td>117.240</td>\n",
       "      <td>117.3050</td>\n",
       "      <td>116.7100</td>\n",
       "      <td>19621</td>\n",
       "      <td>117.03</td>\n",
       "      <td>4550090</td>\n",
       "      <td>117.148732</td>\n",
       "    </tr>\n",
       "    <tr>\n",
       "      <th>2020-04-16 04:00:00+00:00</th>\n",
       "      <td>278.9600</td>\n",
       "      <td>280.0300</td>\n",
       "      <td>275.76</td>\n",
       "      <td>748803</td>\n",
       "      <td>279.15</td>\n",
       "      <td>133521580</td>\n",
       "      <td>278.842847</td>\n",
       "      <td>117.390</td>\n",
       "      <td>117.5250</td>\n",
       "      <td>117.1900</td>\n",
       "      <td>16907</td>\n",
       "      <td>117.19</td>\n",
       "      <td>4968628</td>\n",
       "      <td>117.399250</td>\n",
       "    </tr>\n",
       "    <tr>\n",
       "      <th>2020-04-17 04:00:00+00:00</th>\n",
       "      <td>286.5400</td>\n",
       "      <td>287.3000</td>\n",
       "      <td>282.40</td>\n",
       "      <td>698621</td>\n",
       "      <td>285.38</td>\n",
       "      <td>148426671</td>\n",
       "      <td>284.335372</td>\n",
       "      <td>117.250</td>\n",
       "      <td>117.6200</td>\n",
       "      <td>117.0350</td>\n",
       "      <td>25621</td>\n",
       "      <td>117.52</td>\n",
       "      <td>5131360</td>\n",
       "      <td>117.354514</td>\n",
       "    </tr>\n",
       "    <tr>\n",
       "      <th>2020-04-20 04:00:00+00:00</th>\n",
       "      <td>281.7600</td>\n",
       "      <td>286.7912</td>\n",
       "      <td>281.35</td>\n",
       "      <td>600461</td>\n",
       "      <td>282.61</td>\n",
       "      <td>101355962</td>\n",
       "      <td>283.704924</td>\n",
       "      <td>117.080</td>\n",
       "      <td>117.2800</td>\n",
       "      <td>116.9400</td>\n",
       "      <td>18509</td>\n",
       "      <td>117.15</td>\n",
       "      <td>3914821</td>\n",
       "      <td>117.031768</td>\n",
       "    </tr>\n",
       "    <tr>\n",
       "      <th>2020-04-21 04:00:00+00:00</th>\n",
       "      <td>273.1700</td>\n",
       "      <td>278.0400</td>\n",
       "      <td>272.02</td>\n",
       "      <td>923553</td>\n",
       "      <td>276.73</td>\n",
       "      <td>127506242</td>\n",
       "      <td>274.740249</td>\n",
       "      <td>117.140</td>\n",
       "      <td>117.4400</td>\n",
       "      <td>117.0700</td>\n",
       "      <td>19426</td>\n",
       "      <td>117.43</td>\n",
       "      <td>4819581</td>\n",
       "      <td>117.165879</td>\n",
       "    </tr>\n",
       "  </tbody>\n",
       "</table>\n",
       "<p>1000 rows × 14 columns</p>\n",
       "</div>"
      ],
      "text/plain": [
       "                                SPY                                        \\\n",
       "                              close      high     low trade_count    open   \n",
       "timestamp                                                                   \n",
       "2016-05-02 04:00:00+00:00  207.9700  208.1800  206.41      263586  206.92   \n",
       "2016-05-03 04:00:00+00:00  206.1592  206.8000  205.28      377523  206.52   \n",
       "2016-05-04 04:00:00+00:00  205.0100  205.8500  204.42      345266  204.99   \n",
       "2016-05-05 04:00:00+00:00  204.9700  205.9800  204.47      280626  205.56   \n",
       "2016-05-06 04:00:00+00:00  205.7200  205.7700  203.88      340162  204.06   \n",
       "...                             ...       ...     ...         ...     ...   \n",
       "2020-04-15 04:00:00+00:00  277.7500  283.9407  275.46      711142  277.57   \n",
       "2020-04-16 04:00:00+00:00  278.9600  280.0300  275.76      748803  279.15   \n",
       "2020-04-17 04:00:00+00:00  286.5400  287.3000  282.40      698621  285.38   \n",
       "2020-04-20 04:00:00+00:00  281.7600  286.7912  281.35      600461  282.61   \n",
       "2020-04-21 04:00:00+00:00  273.1700  278.0400  272.02      923553  276.73   \n",
       "\n",
       "                                                      AGG                      \\\n",
       "                              volume        vwap    close      high       low   \n",
       "timestamp                                                                       \n",
       "2016-05-02 04:00:00+00:00   64747229  207.305695  110.605  110.7400  110.5200   \n",
       "2016-05-03 04:00:00+00:00  108050343  206.309997  110.810  110.9450  110.7500   \n",
       "2016-05-04 04:00:00+00:00   94995641  205.086315  110.860  110.9315  110.7595   \n",
       "2016-05-05 04:00:00+00:00   68425268  205.140615  111.140  111.1600  110.8010   \n",
       "2016-05-06 04:00:00+00:00   90999800  204.943796  110.970  111.1200  110.9700   \n",
       "...                              ...         ...      ...       ...       ...   \n",
       "2020-04-15 04:00:00+00:00  122479542  277.825663  117.240  117.3050  116.7100   \n",
       "2020-04-16 04:00:00+00:00  133521580  278.842847  117.390  117.5250  117.1900   \n",
       "2020-04-17 04:00:00+00:00  148426671  284.335372  117.250  117.6200  117.0350   \n",
       "2020-04-20 04:00:00+00:00  101355962  283.704924  117.080  117.2800  116.9400   \n",
       "2020-04-21 04:00:00+00:00  127506242  274.740249  117.140  117.4400  117.0700   \n",
       "\n",
       "                                                                    \n",
       "                          trade_count    open   volume        vwap  \n",
       "timestamp                                                           \n",
       "2016-05-02 04:00:00+00:00       15122  110.74  3608552  110.626939  \n",
       "2016-05-03 04:00:00+00:00       15663  110.89  3128774  110.864495  \n",
       "2016-05-04 04:00:00+00:00       13984  110.91  3096337  110.877983  \n",
       "2016-05-05 04:00:00+00:00       15708  110.92  3052967  111.030002  \n",
       "2016-05-06 04:00:00+00:00       12697  111.12  2922700  111.027631  \n",
       "...                               ...     ...      ...         ...  \n",
       "2020-04-15 04:00:00+00:00       19621  117.03  4550090  117.148732  \n",
       "2020-04-16 04:00:00+00:00       16907  117.19  4968628  117.399250  \n",
       "2020-04-17 04:00:00+00:00       25621  117.52  5131360  117.354514  \n",
       "2020-04-20 04:00:00+00:00       18509  117.15  3914821  117.031768  \n",
       "2020-04-21 04:00:00+00:00       19426  117.43  4819581  117.165879  \n",
       "\n",
       "[1000 rows x 14 columns]"
      ]
     },
     "execution_count": 16,
     "metadata": {},
     "output_type": "execute_result"
    }
   ],
   "source": [
    "#Initiliaze Alpaca Keys \n",
    "alpaca_api_key = os.getenv(\"ALPACA_API_KEY\")\n",
    "alpaca_secret_key = os.getenv(\"ALPACA_SECRET_KEY\")\n",
    "# Create the Alpaca API object\n",
    "api= tradeapi.REST(\n",
    "    alpaca_api_key,\n",
    "    alpaca_secret_key,\n",
    "    api_version = \"v2\"\n",
    ")\n",
    "\n",
    "\n",
    "# Set Ticker Information\n",
    "tickers = [\"SPY\", \"AGG\"]\n",
    "# Get 5 years' worth of historical data for SPY and AGG\n",
    "five_year_port = api.get_bars(\n",
    "    tickers,\n",
    "    timeframe,\n",
    "    start = start_date,\n",
    "    end = end_date\n",
    ").df\n",
    "\n",
    "\n",
    "# Reorganize the DataFrame\n",
    "# Separate ticker data\n",
    "SPY = five_year_port[five_year_port['symbol']=='SPY'].drop('symbol', axis=1) # Seperating SPY Ticker\n",
    "AGG = five_year_port[five_year_port['symbol']=='AGG'].drop('symbol', axis=1)# Seperating AGG Ticker\n",
    "\n",
    "\n",
    "# Concatenate the ticker DataFrames\n",
    "new_port_five_year = pd.concat([SPY, AGG],axis=1, keys=['SPY','AGG']) # New Dataframe to hold both Stocks\n",
    "\n",
    "# Display sample data\n",
    "new_port_five_year.head(1000) #Display Dataframe"
   ]
  },
  {
   "cell_type": "code",
   "execution_count": 19,
   "metadata": {
    "tags": []
   },
   "outputs": [
    {
     "ename": "NameError",
     "evalue": "name 'MCSimulation' is not defined",
     "output_type": "error",
     "traceback": [
      "\u001b[1;31m---------------------------------------------------------------------------\u001b[0m",
      "\u001b[1;31mNameError\u001b[0m                                 Traceback (most recent call last)",
      "Cell \u001b[1;32mIn[19], line 2\u001b[0m\n\u001b[0;32m      1\u001b[0m \u001b[38;5;66;03m# Configuring a Monte Carlo simulation to forecast 30 years cumulative returns\u001b[39;00m\n\u001b[1;32m----> 2\u001b[0m MC_thirty_year \u001b[38;5;241m=\u001b[39m \u001b[43mMCSimulation\u001b[49m(\n\u001b[0;32m      3\u001b[0m     portfolio_data \u001b[38;5;241m=\u001b[39m new_port_five_year,\u001b[38;5;66;03m#Specifying where to pull data\u001b[39;00m\n\u001b[0;32m      4\u001b[0m     weights \u001b[38;5;241m=\u001b[39m [\u001b[38;5;241m.60\u001b[39m,\u001b[38;5;241m.40\u001b[39m],\u001b[38;5;66;03m#Weight of the stock\u001b[39;00m\n\u001b[0;32m      5\u001b[0m     num_simulation \u001b[38;5;241m=\u001b[39m \u001b[38;5;241m500\u001b[39m,\u001b[38;5;66;03m# Number of times the simulation is running\u001b[39;00m\n\u001b[0;32m      6\u001b[0m     num_trading_days \u001b[38;5;241m=\u001b[39m \u001b[38;5;241m252\u001b[39m\u001b[38;5;241m*\u001b[39m\u001b[38;5;241m30\u001b[39m \u001b[38;5;66;03m# specifiying the years\u001b[39;00m\n\u001b[0;32m      7\u001b[0m )\n\u001b[0;32m      8\u001b[0m \u001b[38;5;66;03m# Printing the simulation input data\u001b[39;00m\n\u001b[0;32m      9\u001b[0m MC_thirty_year\u001b[38;5;241m.\u001b[39mportfolio_data\u001b[38;5;241m.\u001b[39mhead(\u001b[38;5;241m1000\u001b[39m)\n",
      "\u001b[1;31mNameError\u001b[0m: name 'MCSimulation' is not defined"
     ]
    }
   ],
   "source": [
    "import yfinance as yf\n",
    "from pyforcasttool import MCSimulation\n",
    "\n",
    "# Assuming new_port_five_year is a DataFrame with historical stock data\n",
    "# Replace 'TICKER1' and 'TICKER2' with the actual stock tickers in your portfolio\n",
    "\n",
    "stocks = ['TICKER1', 'TICKER2']\n",
    "new_port_five_year = yf.download(stocks, start=\"2018-01-01\", end=\"2023-01-01\")\n",
    "\n",
    "# Configuring a Monte Carlo simulation for 30 years cumulative returns\n",
    "MC_thirty_year = MCSimulation(\n",
    "    portfolio_data=new_port_five_year,  # Specifying where to pull data\n",
    "    weights=[0.60, 0.40],  # Weight of the stock\n",
    "    num_simulation=500,  # Number of times the simulation is running\n",
    "    num_trading_days=252 * 30  # Specifying the years\n",
    ")\n"
   ]
  },
  {
   "cell_type": "code",
   "execution_count": 25,
   "metadata": {
    "tags": []
   },
   "outputs": [
    {
     "ename": "NameError",
     "evalue": "name 'PY_thirty_year' is not defined",
     "output_type": "error",
     "traceback": [
      "\u001b[1;31m---------------------------------------------------------------------------\u001b[0m",
      "\u001b[1;31mNameError\u001b[0m                                 Traceback (most recent call last)",
      "Cell \u001b[1;32mIn[25], line 2\u001b[0m\n\u001b[0;32m      1\u001b[0m \u001b[38;5;66;03m# Running a Monte Carlo simulation to forecast 30 years cumulative returns\u001b[39;00m\n\u001b[1;32m----> 2\u001b[0m \u001b[43mPY_thirty_year\u001b[49m\u001b[38;5;241m.\u001b[39mcalc_cumulative_return()\n",
      "\u001b[1;31mNameError\u001b[0m: name 'PY_thirty_year' is not defined"
     ]
    }
   ],
   "source": [
    "# Running a Monte Carlo simulation to forecast 30 years cumulative returns\n",
    "PY_thirty_year.calc_cumulative_return()"
   ]
  },
  {
   "cell_type": "code",
   "execution_count": 24,
   "metadata": {
    "tags": []
   },
   "outputs": [
    {
     "name": "stdout",
     "output_type": "stream",
     "text": [
      "Collecting PyForecastTools\n",
      "  Downloading PyForecastTools-1.1.1-py3-none-any.whl (26 kB)\n",
      "Requirement already satisfied: numpy in c:\\users\\mk\\anaconda3\\envs\\dev\\lib\\site-packages (from PyForecastTools) (1.24.3)\n",
      "Requirement already satisfied: matplotlib in c:\\users\\mk\\anaconda3\\envs\\dev\\lib\\site-packages (from PyForecastTools) (3.7.1)\n",
      "Requirement already satisfied: contourpy>=1.0.1 in c:\\users\\mk\\anaconda3\\envs\\dev\\lib\\site-packages (from matplotlib->PyForecastTools) (1.0.5)\n",
      "Requirement already satisfied: cycler>=0.10 in c:\\users\\mk\\anaconda3\\envs\\dev\\lib\\site-packages (from matplotlib->PyForecastTools) (0.11.0)\n",
      "Requirement already satisfied: fonttools>=4.22.0 in c:\\users\\mk\\anaconda3\\envs\\dev\\lib\\site-packages (from matplotlib->PyForecastTools) (4.25.0)\n",
      "Requirement already satisfied: kiwisolver>=1.0.1 in c:\\users\\mk\\anaconda3\\envs\\dev\\lib\\site-packages (from matplotlib->PyForecastTools) (1.4.4)\n",
      "Requirement already satisfied: packaging>=20.0 in c:\\users\\mk\\anaconda3\\envs\\dev\\lib\\site-packages (from matplotlib->PyForecastTools) (23.0)\n",
      "Requirement already satisfied: pillow>=6.2.0 in c:\\users\\mk\\anaconda3\\envs\\dev\\lib\\site-packages (from matplotlib->PyForecastTools) (9.4.0)\n",
      "Requirement already satisfied: pyparsing>=2.3.1 in c:\\users\\mk\\anaconda3\\envs\\dev\\lib\\site-packages (from matplotlib->PyForecastTools) (3.0.9)\n",
      "Requirement already satisfied: python-dateutil>=2.7 in c:\\users\\mk\\anaconda3\\envs\\dev\\lib\\site-packages (from matplotlib->PyForecastTools) (2.8.2)\n",
      "Requirement already satisfied: six>=1.5 in c:\\users\\mk\\anaconda3\\envs\\dev\\lib\\site-packages (from python-dateutil>=2.7->matplotlib->PyForecastTools) (1.16.0)\n",
      "Installing collected packages: PyForecastTools\n",
      "Successfully installed PyForecastTools-1.1.1\n",
      "Note: you may need to restart the kernel to use updated packages.\n"
     ]
    }
   ],
   "source": [
    "pip install PyForecastTools"
   ]
  },
  {
   "cell_type": "code",
   "execution_count": null,
   "metadata": {},
   "outputs": [],
   "source": []
  }
 ],
 "metadata": {
  "kernelspec": {
   "display_name": "Python 3 (ipykernel)",
   "language": "python",
   "name": "python3"
  },
  "language_info": {
   "codemirror_mode": {
    "name": "ipython",
    "version": 3
   },
   "file_extension": ".py",
   "mimetype": "text/x-python",
   "name": "python",
   "nbconvert_exporter": "python",
   "pygments_lexer": "ipython3",
   "version": "3.10.12"
  },
  "nteract": {
   "version": "0.28.0"
  }
 },
 "nbformat": 4,
 "nbformat_minor": 4
}
