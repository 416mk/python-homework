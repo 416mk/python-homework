{
 "cells": [
  {
   "cell_type": "markdown",
   "metadata": {},
   "source": [
    "# Unit 5 - Financial Planning"
   ]
  },
  {
   "cell_type": "code",
   "execution_count": 6,
   "metadata": {
    "tags": []
   },
   "outputs": [
    {
     "ename": "ModuleNotFoundError",
     "evalue": "No module named 'MCSimulation'",
     "output_type": "error",
     "traceback": [
      "\u001b[1;31m---------------------------------------------------------------------------\u001b[0m",
      "\u001b[1;31mModuleNotFoundError\u001b[0m                       Traceback (most recent call last)",
      "Cell \u001b[1;32mIn[6], line 11\u001b[0m\n\u001b[0;32m      9\u001b[0m \u001b[38;5;28;01mimport\u001b[39;00m \u001b[38;5;21;01malpaca_trade_api\u001b[39;00m \u001b[38;5;28;01mas\u001b[39;00m \u001b[38;5;21;01mtradeapi\u001b[39;00m\n\u001b[0;32m     10\u001b[0m \u001b[38;5;28;01mimport\u001b[39;00m \u001b[38;5;21;01myfinance\u001b[39;00m \u001b[38;5;28;01mas\u001b[39;00m \u001b[38;5;21;01myf\u001b[39;00m\n\u001b[1;32m---> 11\u001b[0m \u001b[38;5;28;01mimport\u001b[39;00m \u001b[38;5;21;01mMCSimulation\u001b[39;00m\n\u001b[0;32m     12\u001b[0m \u001b[38;5;28;01mimport\u001b[39;00m \u001b[38;5;21;01mjson\u001b[39;00m\n\u001b[0;32m     13\u001b[0m get_ipython()\u001b[38;5;241m.\u001b[39mrun_line_magic(\u001b[38;5;124m'\u001b[39m\u001b[38;5;124mmatplotlib\u001b[39m\u001b[38;5;124m'\u001b[39m, \u001b[38;5;124m'\u001b[39m\u001b[38;5;124minline\u001b[39m\u001b[38;5;124m'\u001b[39m)\n",
      "\u001b[1;31mModuleNotFoundError\u001b[0m: No module named 'MCSimulation'"
     ]
    }
   ],
   "source": [
    "#Mick Charbonneau\n",
    "#9/25/23\n",
    "#Inspiration from UTOR Bootcamp Ressources & Activity + ChatGPT\n",
    "# Initial imports\n",
    "import os\n",
    "import requests\n",
    "import pandas as pd\n",
    "from dotenv import load_dotenv\n",
    "import alpaca_trade_api as tradeapi\n",
    "import yfinance as yf\n",
    "import MCSimulation\n",
    "import json\n",
    "from PyForecastTools impo\n",
    "%matplotlib inline\n",
    "import warnings\n",
    "warnings.filterwarnings('ignore')"
   ]
  },
  {
   "cell_type": "code",
   "execution_count": null,
   "metadata": {
    "tags": []
   },
   "outputs": [],
   "source": [
    "# Load .env enviroment variables\n",
    "from dotenv import load_dotenv,find_dotenv # a more acurate line of code to locate .env file\n",
    "load_dotenv(find_dotenv(r\"C:\\Users\\MK\\Desktop\\python-homework\\python notes\\example.env\")) #Location of my .env file\n",
    "\n",
    "# Set Alpaca API key and secret\n",
    "alpaca_api_key = os.getenv(\"ALPACA_API_KEY\")\n",
    "alpaca_secret_key = os.getenv(\"ALPACA_SECRET_KEY\")\n",
    "\n",
    "#Creating Alpaca API Object\n",
    "api = tradeapi.REST(\n",
    "    alpaca_api_key,\n",
    "    alpaca_secret_key,\n",
    "    api_version = \"v2\"\n",
    ")"
   ]
  },
  {
   "cell_type": "markdown",
   "metadata": {
    "tags": []
   },
   "source": [
    "## Part 1 - Personal Finance Planner"
   ]
  },
  {
   "cell_type": "markdown",
   "metadata": {
    "tags": []
   },
   "source": [
    "### Collect Crypto Prices Using the `requests` Library"
   ]
  },
  {
   "cell_type": "code",
   "execution_count": null,
   "metadata": {
    "tags": []
   },
   "outputs": [],
   "source": [
    "# Set current amount of crypto assets\n",
    "btc_holding = 1.2  \n",
    "eth_holding = 5.3  "
   ]
  },
  {
   "cell_type": "code",
   "execution_count": null,
   "metadata": {
    "tags": []
   },
   "outputs": [],
   "source": [
    "# Crypto API URLs\n",
    "btc_url = \"https://api.alternative.me/v2/ticker/Bitcoin/?convert=CAD\" # Link to BTC API\n",
    "btc_url= btc_url+\"?format=json\" # Format link to JSON format\n",
    "eth_url = \"https://api.alternative.me/v2/ticker/Ethereum/?convert=CAD\" # Link to ETH API\n",
    "eth_url= eth_url+\"?format=json\" # Format link to JSON format"
   ]
  },
  {
   "cell_type": "code",
   "execution_count": null,
   "metadata": {
    "tags": []
   },
   "outputs": [],
   "source": [
    "# current BTC price\n",
    "btc_data=requests.get(\"https://api.alternative.me/v2/ticker/Bitcoin/?convert=CAD\") # New variable to contain BTC link and using the request command to retrive the link\n",
    "data1=btc_data.json() # Reads the data in a JSON format\n",
    "btc_price=data1[\"data\"][\"1\"][\"quotes\"][\"CAD\"][\"price\"] # Specifying where im grabbing BTC price\n",
    "\n",
    "#current ETH price\n",
    "eth_data=requests.get(\"https://api.alternative.me/v2/ticker/Ethereum/?convert=CAD\") # New variable to contain ETH link and using the request command to retrive the link\n",
    "data2=eth_data.json() # Reads the data in a JSON format\n",
    "eth_price=data2[\"data\"][\"1027\"][\"quotes\"][\"CAD\"][\"price\"] # Specifying where im grabbing ETH price\n",
    "\n",
    "\n",
    "# current value of my crpto\n",
    "total_btc_price= btc_holding*btc_price # Current Price of BTC * Number of BTC Shares\n",
    "total_eth_price=eth_holding*eth_price # Current Price of ETH * Number of ETH Shares\n",
    "\n",
    "# Print current crypto wallet balance\n",
    "print(f\"The current value of your {btc_holding} BTC is ${total_btc_price:0.2f}\") # Display Current Value of BTC Balance\n",
    "print(f\"The current value of your {eth_holding} ETH is ${total_eth_price:0.2f}\") # Display Curren"
   ]
  },
  {
   "cell_type": "markdown",
   "metadata": {
    "tags": []
   },
   "source": [
    "### Collect Investments Data Using Alpaca: `SPY` (stocks) and `AGG` (bonds)"
   ]
  },
  {
   "cell_type": "code",
   "execution_count": null,
   "metadata": {
    "tags": []
   },
   "outputs": [],
   "source": [
    "# Set current amount of shares\n",
    "my_agg = 200\n",
    "my_spy = 50"
   ]
  },
  {
   "cell_type": "code",
   "execution_count": null,
   "metadata": {
    "tags": []
   },
   "outputs": [],
   "source": [
    "# Format current date as ISO format\n",
    "today = pd.Timestamp(\"2023-09-25\", tz=\"America/New_York\").isoformat()\n",
    "\n",
    "# Set the tickers\n",
    "tickers = [\"AGG\", \"SPY\"]\n",
    "\n",
    "# Set timeframe to \"1Day\" for Alpaca API\n",
    "timeframe = \"1Day\"\n",
    "\n",
    "# Get current closing prices for SPY and AGG\n",
    "stock_portfolio = api.get_bars(\n",
    "    tickers,\n",
    "    timeframe,\n",
    "    start = today,\n",
    "    end = today\n",
    ").df\n",
    "\n",
    "# Reorganize the DataFrame\n",
    "# Separate ticker data\n",
    "SPY = stock_portfolio[stock_portfolio['symbol']=='SPY'].drop('symbol', axis=1) # Seperating SPY Ticker\n",
    "AGG = stock_portfolio[stock_portfolio['symbol']=='AGG'].drop('symbol', axis=1) # Seperating AGG Ticker\n",
    "\n",
    "# Concatenate the ticker DataFrames\n",
    "stock_portfolio = pd.concat([SPY, AGG],axis=1, keys=['SPY','AGG']) \n",
    "\n",
    "# Preview DataFrame\n",
    "stock_portfolio"
   ]
  },
  {
   "cell_type": "code",
   "execution_count": null,
   "metadata": {
    "tags": []
   },
   "outputs": [],
   "source": [
    "# Pick AGG and SPY close prices\n",
    "spy_price_close = float(stock_portfolio[\"SPY\"][\"close\"]) # Display SPY Closing Price\n",
    "agg_price_close = float(stock_portfolio[\"AGG\"][\"close\"]) # Display AGG Closing Price\n",
    "\n",
    "# Print AGG and SPY close prices\n",
    "print(f\"Current AGG closing price: ${agg_price_close}\")  # Print SPY close prices\n",
    "print(f\"Current SPY closing price: ${spy_price_close}\") # Print AGG  close prices"
   ]
  },
  {
   "cell_type": "code",
   "execution_count": null,
   "metadata": {
    "tags": []
   },
   "outputs": [],
   "source": [
    "# Compute the current value of shares\n",
    "spy_value = spy_price_close * my_spy # Closing Price of SPY * Shares of SPY\n",
    "agg_value = agg_price_close * my_agg # Closing Price of AGG * Shares of AGG    \n",
    "\n",
    "# Print current value of shares\n",
    "print(f\"The current value of your {my_spy} SPY shares is ${spy_value:0.2f}\") # Print Current Value of close prices\n",
    "print(f\"The current value of your {my_agg} AGG shares is ${agg_value:0.2f}\") # Print SPY close "
   ]
  },
  {
   "cell_type": "code",
   "execution_count": null,
   "metadata": {
    "tags": []
   },
   "outputs": [],
   "source": [
    "# Set monthly household income\n",
    "monthly_income=12000\n",
    "\n",
    "# Consolidate financial assets data\n",
    "total_crypto= total_btc_price + total_eth_price  # Total price of BTC + Total price of ETH \n",
    "total_shares= spy_value + agg_value  # Total Shares of SPY + Total Shares of AGG\n",
    "\n",
    "\n",
    "# Create savings DataFrame\n",
    "savings_data = {\n",
    "    \"Amount\": [total_crypto, total_shares] # Name of Columns\n",
    "}\n",
    "\n",
    "tickers = [\"Crypto\", \"Shares\"] # Name of Tickers\n",
    "\n",
    "total_savings_data = pd.DataFrame(savings_data, index=tickers) # Dataframe Creation\n",
    "\n",
    "# Display savings DataFrame\n",
    "total_savings_data"
   ]
  },
  {
   "cell_type": "code",
   "execution_count": null,
   "metadata": {
    "tags": []
   },
   "outputs": [],
   "source": [
    "# Plot savings pie chart\n",
    "total_savings_data.plot.pie(y=\"Amount\", title=\" Savings Portfolio Composition\");"
   ]
  },
  {
   "cell_type": "code",
   "execution_count": null,
   "metadata": {
    "tags": []
   },
   "outputs": [],
   "source": [
    "# Set ideal emergency fund\n",
    "emergency_fund = monthly_income * 3\n",
    "\n",
    "# Calculate total amount of savings\n",
    "total_amount_saving = total_shares + total_crypto # New variable to add total shares of Crypto and Stocks\n",
    "print(\"Emergency Fund:\", emergency_fund) # Prints Emergency Fund\n",
    "print(\"Total Amount Saving:\", total_amount_saving) # Prints Total Amount Saving\n",
    "\n",
    "# Validate saving health with a If Loop\n",
    "if emergency_fund < total_amount_saving: # Bigger than emergency fund\n",
    "    print(\"Congratulations! You have more savings than your emergency fund!\") # Print Statement\n",
    "\n",
    "if emergency_fund == total_amount_saving: # Equal to emergency fund\n",
    "    print(\"Congratulations! You have reached your goal of the emergency fund.\") # Print Statement\n",
    "\n",
    "if emergency_fund > total_amount_saving: # Less than emergency fund\n",
    "    shortfall = emergency_fund - total_amount_saving #Determine the amount needed to reach goal\n",
    "    print(f\"You are below the emergency fund amount. You need to save an additional ${shortfall:.2f} to reach your goal.\") # Print "
   ]
  },
  {
   "cell_type": "code",
   "execution_count": null,
   "metadata": {
    "tags": []
   },
   "outputs": [],
   "source": [
    "#Part 2 - Retirement Planning\n",
    "#Monte Carlo Simulation\n",
    "# Set start and end dates of five years back from today.\n",
    "start_date = pd.Timestamp('2016-05-01', tz='America/New_York').isoformat()\n",
    "end_date = pd.Timestamp('2021-05-01', tz='America/New_York').isoformat()"
   ]
  },
  {
   "cell_type": "code",
   "execution_count": null,
   "metadata": {
    "tags": []
   },
   "outputs": [],
   "source": [
    "#Initiliaze Alpaca Keys \n",
    "alpaca_api_key = os.getenv(\"ALPACA_API_KEY\")\n",
    "alpaca_secret_key = os.getenv(\"ALPACA_SECRET_KEY\")\n",
    "# Create the Alpaca API object\n",
    "api= tradeapi.REST(\n",
    "    alpaca_api_key,\n",
    "    alpaca_secret_key,\n",
    "    api_version = \"v2\"\n",
    ")\n",
    "\n",
    "\n",
    "# Set Ticker Information\n",
    "tickers = [\"SPY\", \"AGG\"]\n",
    "# Get 5 years' worth of historical data for SPY and AGG\n",
    "five_year_port = api.get_bars(\n",
    "    tickers,\n",
    "    timeframe,\n",
    "    start = start_date,\n",
    "    end = end_date\n",
    ").df\n",
    "\n",
    "\n",
    "# Reorganize the DataFrame\n",
    "# Separate ticker data\n",
    "SPY = five_year_port[five_year_port['symbol']=='SPY'].drop('symbol', axis=1) # Seperating SPY Ticker\n",
    "AGG = five_year_port[five_year_port['symbol']=='AGG'].drop('symbol', axis=1)# Seperating AGG Ticker\n",
    "\n",
    "\n",
    "# Concatenate the ticker DataFrames\n",
    "new_port_five_year = pd.concat([SPY, AGG],axis=1, keys=['SPY','AGG']) # New Dataframe to hold both Stocks\n",
    "\n",
    "# Display sample data\n",
    "new_port_five_year.head(1000) #Display Dataframe"
   ]
  },
  {
   "cell_type": "code",
   "execution_count": null,
   "metadata": {
    "tags": []
   },
   "outputs": [],
   "source": [
    "import yfinance as yf\n",
    "from pyforcasttool import MCSimulation\n",
    "\n",
    "# Assuming new_port_five_year is a DataFrame with historical stock data\n",
    "# Replace 'TICKER1' and 'TICKER2' with the actual stock tickers in your portfolio\n",
    "\n",
    "stocks = ['TICKER1', 'TICKER2']\n",
    "new_port_five_year = yf.download(stocks, start=\"2018-01-01\", end=\"2023-01-01\")\n",
    "\n",
    "# Configuring a Monte Carlo simulation for 30 years cumulative returns\n",
    "MC_thirty_year = MCSimulation(\n",
    "    portfolio_data=new_port_five_year,  # Specifying where to pull data\n",
    "    weights=[0.60, 0.40],  # Weight of the stock\n",
    "    num_simulation=500,  # Number of times the simulation is running\n",
    "    num_trading_days=252 * 30  # Specifying the years\n",
    ")\n"
   ]
  },
  {
   "cell_type": "code",
   "execution_count": null,
   "metadata": {
    "tags": []
   },
   "outputs": [],
   "source": [
    "# Running a Monte Carlo simulation to forecast 30 years cumulative returns\n",
    "PY_thirty_year.calc_cumulative_return()"
   ]
  },
  {
   "cell_type": "code",
   "execution_count": 5,
   "metadata": {
    "tags": []
   },
   "outputs": [
    {
     "name": "stdout",
     "output_type": "stream",
     "text": [
      "Requirement already satisfied: PyForecastTools in c:\\users\\mk\\anaconda3\\envs\\dev\\lib\\site-packages (1.1.1)\n",
      "Requirement already satisfied: numpy in c:\\users\\mk\\anaconda3\\envs\\dev\\lib\\site-packages (from PyForecastTools) (1.24.3)\n",
      "Requirement already satisfied: matplotlib in c:\\users\\mk\\anaconda3\\envs\\dev\\lib\\site-packages (from PyForecastTools) (3.7.1)\n",
      "Requirement already satisfied: contourpy>=1.0.1 in c:\\users\\mk\\anaconda3\\envs\\dev\\lib\\site-packages (from matplotlib->PyForecastTools) (1.0.5)\n",
      "Requirement already satisfied: cycler>=0.10 in c:\\users\\mk\\anaconda3\\envs\\dev\\lib\\site-packages (from matplotlib->PyForecastTools) (0.11.0)\n",
      "Requirement already satisfied: fonttools>=4.22.0 in c:\\users\\mk\\anaconda3\\envs\\dev\\lib\\site-packages (from matplotlib->PyForecastTools) (4.25.0)\n",
      "Requirement already satisfied: kiwisolver>=1.0.1 in c:\\users\\mk\\anaconda3\\envs\\dev\\lib\\site-packages (from matplotlib->PyForecastTools) (1.4.4)\n",
      "Requirement already satisfied: packaging>=20.0 in c:\\users\\mk\\anaconda3\\envs\\dev\\lib\\site-packages (from matplotlib->PyForecastTools) (23.0)\n",
      "Requirement already satisfied: pillow>=6.2.0 in c:\\users\\mk\\anaconda3\\envs\\dev\\lib\\site-packages (from matplotlib->PyForecastTools) (9.4.0)\n",
      "Requirement already satisfied: pyparsing>=2.3.1 in c:\\users\\mk\\anaconda3\\envs\\dev\\lib\\site-packages (from matplotlib->PyForecastTools) (3.0.9)\n",
      "Requirement already satisfied: python-dateutil>=2.7 in c:\\users\\mk\\anaconda3\\envs\\dev\\lib\\site-packages (from matplotlib->PyForecastTools) (2.8.2)\n",
      "Requirement already satisfied: six>=1.5 in c:\\users\\mk\\anaconda3\\envs\\dev\\lib\\site-packages (from python-dateutil>=2.7->matplotlib->PyForecastTools) (1.16.0)\n",
      "Note: you may need to restart the kernel to use updated packages.\n"
     ]
    }
   ],
   "source": [
    "pip install PyForecastTools"
   ]
  },
  {
   "cell_type": "code",
   "execution_count": null,
   "metadata": {},
   "outputs": [],
   "source": []
  }
 ],
 "metadata": {
  "kernelspec": {
   "display_name": "Python 3 (ipykernel)",
   "language": "python",
   "name": "python3"
  },
  "language_info": {
   "codemirror_mode": {
    "name": "ipython",
    "version": 3
   },
   "file_extension": ".py",
   "mimetype": "text/x-python",
   "name": "python",
   "nbconvert_exporter": "python",
   "pygments_lexer": "ipython3",
   "version": "3.10.12"
  },
  "nteract": {
   "version": "0.28.0"
  }
 },
 "nbformat": 4,
 "nbformat_minor": 4
}
